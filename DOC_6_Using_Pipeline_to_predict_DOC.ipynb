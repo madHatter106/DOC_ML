{
 "cells": [
  {
   "cell_type": "markdown",
   "metadata": {},
   "source": [
    "### GOAL\n",
    "Here I explore training results/validation results for a few algorithms, trying to predict DOC with one two preprocessing pipelines designed in \n",
    "the notebook \"DOC_5_Pipeline_Design_for_PreProcessing.ipynb\""
   ]
  },
  {
   "cell_type": "code",
   "execution_count": 98,
   "metadata": {},
   "outputs": [],
   "source": [
    "import pandas as pd\n",
    "import numpy as np\n",
    "import pickle\n",
    "from sklearn.base import BaseEstimator, TransformerMixin\n",
    "from sklearn.model_selection import cross_val_score\n",
    "from sklearn.linear_model import LinearRegression, SGDRegressor\n",
    "from sklearn.tree import DecisionTreeRegressor, export_graphviz\n",
    "import graphviz\n",
    "from sklearn.ensemble import RandomForestRegressor, ExtraTreesRegressor\n",
    "from sklearn.metrics import mean_squared_error\n",
    "from sklearn.pipeline import Pipeline\n",
    "from sklearn.preprocessing import Imputer, StandardScaler\n",
    "from sklearn.externals import joblib\n",
    "from seaborn import heatmap\n",
    "from IPython.core.display import HTML, display"
   ]
  },
  {
   "cell_type": "code",
   "execution_count": 60,
   "metadata": {
    "collapsed": true
   },
   "outputs": [],
   "source": [
    "from sklearn import __version__ as skl_version"
   ]
  },
  {
   "cell_type": "code",
   "execution_count": 61,
   "metadata": {},
   "outputs": [
    {
     "name": "stdout",
     "output_type": "stream",
     "text": [
      "0.19.0\n"
     ]
    }
   ],
   "source": [
    "print(skl_version)"
   ]
  },
  {
   "cell_type": "code",
   "execution_count": null,
   "metadata": {
    "collapsed": true
   },
   "outputs": [],
   "source": []
  },
  {
   "cell_type": "code",
   "execution_count": 2,
   "metadata": {},
   "outputs": [
    {
     "data": {
      "text/html": [
       "<style>.container {width: 90% !important}</style>"
      ],
      "text/plain": [
       "<IPython.core.display.HTML object>"
      ]
     },
     "metadata": {},
     "output_type": "display_data"
    }
   ],
   "source": [
    "%matplotlib inline\n",
    "display(HTML(\"<style>.container {width: 90% !important}</style>\"))"
   ]
  },
  {
   "cell_type": "code",
   "execution_count": 47,
   "metadata": {},
   "outputs": [],
   "source": [
    "def GetRrsIdx(df, label_list=None):\n",
    "    if label_list:\n",
    "        return [df.columns.get_loc(label) for label in label_list]\n",
    "    else:\n",
    "        return [df.columns.get_loc(col) for col in df.filter(like='Rrs', axis=1).columns]\n",
    "\n",
    "\n",
    "class BandRatioAdder(BaseEstimator, TransformerMixin):\n",
    "    \"\"\" class to add attributes. \"\"\"\n",
    "    def __init__(self):\n",
    "        return None\n",
    "    \n",
    "    def fit(self, X, y=None):\n",
    "        return self\n",
    "    \n",
    "    def transform(self, X, y=None):\n",
    "        band_ratio_531_443 = X[:, rrs531_ix] / X[:, rrs443_ix]\n",
    "        band_ratio_555_443 = X[:, rrs555_ix] / X[:, rrs443_ix]\n",
    "        return np.c_[X, band_ratio_531_443, band_ratio_555_443]\n",
    "\n",
    "\n",
    "class RrsLogTransformer(BaseEstimator, TransformerMixin):\n",
    "    def __init__(self):\n",
    "        return None\n",
    "\n",
    "    def fit(self, X, y=None):\n",
    "        return self\n",
    "    \n",
    "    def transform(self, X, y=None):\n",
    "        \n",
    "        X[:, rrs_ix_list] = np.log(X[:, rrs_ix_list])\n",
    "        return X\n",
    "\n",
    "def AssessModel(regressor, feats, labels, model_name=''):\n",
    "    preds = regressor.predict(feats)\n",
    "    model_mse = mean_squared_error(labels, preds)\n",
    "    print(\"%s rmse: %.3f\" % (model_name, np.sqrt(model_mse)))\n",
    "\n",
    "def display_scores(scores):\n",
    "    rmse_scores = np.sqrt(-scores)\n",
    "    print(\"Scores: \" , rmse_scores)\n",
    "    print(\"Mean: \", rmse_scores.mean())\n",
    "    print(\"Standard deviation\", rmse_scores.std())\n",
    "\n",
    "doc_ag412_pipeline = Pipeline([('imputer', Imputer(strategy='median')),\n",
    "                               ('br_adder', BandRatioAdder()),\n",
    "                               ('std_scaler', StandardScaler())])"
   ]
  },
  {
   "cell_type": "code",
   "execution_count": 4,
   "metadata": {
    "collapsed": true
   },
   "outputs": [],
   "source": [
    "with open('./PklJar/TrainSet.pkl', 'rb') as fb:\n",
    "    trainFrames = pickle.load(fb)\n",
    "dfTrainFeatures = trainFrames['features']\n",
    "dfTrainLabels = trainFrames['labels']"
   ]
  },
  {
   "cell_type": "markdown",
   "metadata": {},
   "source": [
    "**CAUTION:** functions implemented in the pipeline must be in the namespace.\n",
    "\n",
    "In this case, these are contained in Helpers.py (imported above)"
   ]
  },
  {
   "cell_type": "code",
   "execution_count": 5,
   "metadata": {
    "collapsed": true
   },
   "outputs": [],
   "source": [
    "rrs443_ix, rrs531_ix, rrs555_ix = GetRrsIdx(dfTrainFeatures,\n",
    "                                            label_list=['Rrs443', 'Rrs531', 'Rrs555'])\n",
    "rrs_ix_list = GetRrsIdx(dfTrainFeatures)\n",
    "rrs_ix_list = rrs_ix_list + [rrs_ix_list[-1] + 1, rrs_ix_list[-1] + 2]"
   ]
  },
  {
   "cell_type": "markdown",
   "metadata": {},
   "source": [
    "Training & evaluation on the Training Set"
   ]
  },
  {
   "cell_type": "code",
   "execution_count": 6,
   "metadata": {},
   "outputs": [],
   "source": [
    "doc_features_preprocessed = doc_ag412_pipeline.fit_transform(dfTrainFeatures.values)"
   ]
  },
  {
   "cell_type": "code",
   "execution_count": null,
   "metadata": {
    "collapsed": true
   },
   "outputs": [],
   "source": []
  },
  {
   "cell_type": "code",
   "execution_count": 7,
   "metadata": {},
   "outputs": [],
   "source": [
    "doc_labels = dfTrainLabels.as_matrix(columns=['doc'])"
   ]
  },
  {
   "cell_type": "code",
   "execution_count": 8,
   "metadata": {},
   "outputs": [
    {
     "data": {
      "text/plain": [
       "LinearRegression(copy_X=True, fit_intercept=True, n_jobs=1, normalize=False)"
      ]
     },
     "execution_count": 8,
     "metadata": {},
     "output_type": "execute_result"
    }
   ],
   "source": [
    "lin_reg_doc = LinearRegression()\n",
    "lin_reg_doc.fit(doc_features_preprocessed, doc_labels)"
   ]
  },
  {
   "cell_type": "code",
   "execution_count": 30,
   "metadata": {},
   "outputs": [
    {
     "name": "stdout",
     "output_type": "stream",
     "text": [
      "lin_reg rmse: 21.584\n"
     ]
    }
   ],
   "source": [
    "AssessModel(lin_reg_doc, doc_features_preprocessed, doc_labels, model_name='lin_reg' )"
   ]
  },
  {
   "cell_type": "code",
   "execution_count": 34,
   "metadata": {},
   "outputs": [
    {
     "data": {
      "text/plain": [
       "SGDRegressor(alpha=0.0001, average=False, epsilon=0.1, eta0=0.01,\n",
       "       fit_intercept=True, l1_ratio=0.15, learning_rate='invscaling',\n",
       "       loss='squared_loss', max_iter=1000, n_iter=None, penalty='l2',\n",
       "       power_t=0.25, random_state=None, shuffle=True, tol=None, verbose=0,\n",
       "       warm_start=False)"
      ]
     },
     "execution_count": 34,
     "metadata": {},
     "output_type": "execute_result"
    }
   ],
   "source": [
    "sgd_doc = SGDRegressor(max_iter=1000)\n",
    "sgd_doc.fit(doc_features_preprocessed, doc_labels.reshape((-1,)))"
   ]
  },
  {
   "cell_type": "code",
   "execution_count": 35,
   "metadata": {},
   "outputs": [
    {
     "name": "stdout",
     "output_type": "stream",
     "text": [
      "sgd rmse: 21.601\n"
     ]
    }
   ],
   "source": [
    "AssessModel(sgd_doc, doc_features_preprocessed, doc_labels, model_name='sgd')"
   ]
  },
  {
   "cell_type": "code",
   "execution_count": 36,
   "metadata": {},
   "outputs": [
    {
     "data": {
      "text/plain": [
       "DecisionTreeRegressor(criterion='mse', max_depth=None, max_features=None,\n",
       "           max_leaf_nodes=None, min_impurity_decrease=0.0,\n",
       "           min_impurity_split=None, min_samples_leaf=1,\n",
       "           min_samples_split=2, min_weight_fraction_leaf=0.0,\n",
       "           presort=False, random_state=None, splitter='best')"
      ]
     },
     "execution_count": 36,
     "metadata": {},
     "output_type": "execute_result"
    }
   ],
   "source": [
    "tree_doc = DecisionTreeRegressor()\n",
    "tree_doc.fit(doc_features_preprocessed, doc_labels)"
   ]
  },
  {
   "cell_type": "code",
   "execution_count": 37,
   "metadata": {},
   "outputs": [
    {
     "name": "stdout",
     "output_type": "stream",
     "text": [
      "d-tree rmse: 0.000\n"
     ]
    }
   ],
   "source": [
    "AssessModel(tree_doc, doc_features_preprocessed, doc_labels, model_name='d-tree')"
   ]
  },
  {
   "cell_type": "markdown",
   "metadata": {},
   "source": [
    "Mitigating the decision tree overfit using k-fold cross-validation"
   ]
  },
  {
   "cell_type": "code",
   "execution_count": 46,
   "metadata": {
    "collapsed": true
   },
   "outputs": [],
   "source": [
    "tree_scores = cross_val_score(tree_doc, doc_features_preprocessed, doc_labels,\n",
    "                        scoring='neg_mean_squared_error', cv=10)"
   ]
  },
  {
   "cell_type": "code",
   "execution_count": 48,
   "metadata": {},
   "outputs": [
    {
     "name": "stdout",
     "output_type": "stream",
     "text": [
      "Scores:  [ 27.35474036  31.00433296  16.81202746  25.80543546  20.4533907\n",
      "  25.46563619  36.15110518  42.27280109  32.35785155  30.10684743]\n",
      "Mean:  28.7784168402\n",
      "Standard deviation 7.00233708537\n"
     ]
    }
   ],
   "source": [
    "display_scores(tree_scores)"
   ]
  },
  {
   "cell_type": "code",
   "execution_count": 44,
   "metadata": {},
   "outputs": [],
   "source": [
    "# comparing to lin_reg and sgd\n",
    "lin_reg_scores = cross_val_score(lin_reg_doc, doc_features_preprocessed, doc_labels,\n",
    "                                scoring='neg_mean_squared_error', cv=10)\n",
    "sgd_scores = cross_val_score(sgd_doc, doc_features_preprocessed, doc_labels.reshape((-1,)),\n",
    "                            scoring='neg_mean_squared_error', cv=10)"
   ]
  },
  {
   "cell_type": "code",
   "execution_count": 49,
   "metadata": {},
   "outputs": [
    {
     "name": "stdout",
     "output_type": "stream",
     "text": [
      "Scores:  [ 20.73787638  20.15781999  21.87362437  15.42237922  17.06222598\n",
      "  28.24074133  28.27423931  42.74516779  22.1058328   21.69912084]\n",
      "Mean:  23.8319028007\n",
      "Standard deviation 7.40180538491\n"
     ]
    }
   ],
   "source": [
    "display_scores(lin_reg_scores)"
   ]
  },
  {
   "cell_type": "code",
   "execution_count": 50,
   "metadata": {},
   "outputs": [
    {
     "name": "stdout",
     "output_type": "stream",
     "text": [
      "Scores:  [ 20.88940831  20.22516235  21.73665881  15.24791377  16.48080812\n",
      "  27.34215976  28.45216958  42.36234314  22.00228579  21.64682123]\n",
      "Mean:  23.6385730858\n",
      "Standard deviation 7.33876462849\n"
     ]
    }
   ],
   "source": [
    "display_scores(sgd_scores)"
   ]
  },
  {
   "cell_type": "code",
   "execution_count": 64,
   "metadata": {
    "collapsed": true
   },
   "outputs": [],
   "source": [
    "features_names = dfTrainFeatures.columns.tolist() + ['br_531_443', 'br_555_443']"
   ]
  },
  {
   "cell_type": "code",
   "execution_count": 87,
   "metadata": {},
   "outputs": [],
   "source": [
    "feature_scores = [(name,score) for name, score in zip(features_names,\n",
    "                                                     tree_doc.feature_importances_)]"
   ]
  },
  {
   "cell_type": "code",
   "execution_count": 88,
   "metadata": {},
   "outputs": [
    {
     "data": {
      "text/plain": [
       "[('SST', 0.023060026520039169),\n",
       " ('SSS', 0.86001633157142854),\n",
       " ('Rrs412', 0.0073552344742274459),\n",
       " ('Rrs443', 0.00087997498170493474),\n",
       " ('Rrs531', 0.028769476761792284),\n",
       " ('Rrs555', 0.021440038049392696),\n",
       " ('Rrs667', 0.015271590344997988),\n",
       " ('br_531_443', 0.033028757552767518),\n",
       " ('br_555_443', 0.010178569743649491)]"
      ]
     },
     "execution_count": 88,
     "metadata": {},
     "output_type": "execute_result"
    }
   ],
   "source": [
    "feature_scores"
   ]
  },
  {
   "cell_type": "code",
   "execution_count": 91,
   "metadata": {},
   "outputs": [],
   "source": [
    "sorted_feature_scores = sorted(feature_scores, key=lambda x: x[1], reverse=True)"
   ]
  },
  {
   "cell_type": "code",
   "execution_count": 92,
   "metadata": {},
   "outputs": [
    {
     "data": {
      "text/plain": [
       "[('SSS', 0.86001633157142854),\n",
       " ('br_531_443', 0.033028757552767518),\n",
       " ('Rrs531', 0.028769476761792284),\n",
       " ('SST', 0.023060026520039169),\n",
       " ('Rrs555', 0.021440038049392696),\n",
       " ('Rrs667', 0.015271590344997988),\n",
       " ('br_555_443', 0.010178569743649491),\n",
       " ('Rrs412', 0.0073552344742274459),\n",
       " ('Rrs443', 0.00087997498170493474)]"
      ]
     },
     "execution_count": 92,
     "metadata": {},
     "output_type": "execute_result"
    }
   ],
   "source": [
    "sorted_feature_scores"
   ]
  },
  {
   "cell_type": "code",
   "execution_count": null,
   "metadata": {
    "scrolled": false
   },
   "outputs": [],
   "source": [
    "graphviz.Source(export_graphviz(tree_doc, out_file=None, feature_names=features_names))"
   ]
  },
  {
   "cell_type": "code",
   "execution_count": 94,
   "metadata": {},
   "outputs": [
    {
     "data": {
      "text/plain": [
       "RandomForestRegressor(bootstrap=True, criterion='mse', max_depth=None,\n",
       "           max_features='auto', max_leaf_nodes=None,\n",
       "           min_impurity_decrease=0.0, min_impurity_split=None,\n",
       "           min_samples_leaf=1, min_samples_split=2,\n",
       "           min_weight_fraction_leaf=0.0, n_estimators=10, n_jobs=1,\n",
       "           oob_score=False, random_state=None, verbose=0, warm_start=False)"
      ]
     },
     "execution_count": 94,
     "metadata": {},
     "output_type": "execute_result"
    }
   ],
   "source": [
    "forest_doc = RandomForestRegressor()\n",
    "forest_doc.fit(doc_features_preprocessed, doc_labels.ravel())"
   ]
  },
  {
   "cell_type": "code",
   "execution_count": 96,
   "metadata": {},
   "outputs": [],
   "source": [
    "forest_scores = cross_val_score(forest_doc, doc_features_preprocessed,\n",
    "                                doc_labels.ravel(), \n",
    "                                scoring='neg_mean_squared_error', cv=10)"
   ]
  },
  {
   "cell_type": "code",
   "execution_count": 97,
   "metadata": {},
   "outputs": [
    {
     "name": "stdout",
     "output_type": "stream",
     "text": [
      "Scores:  [ 17.24582528  20.42944063  18.27214692  14.75014539  16.02748236\n",
      "  21.93918614  29.58377162  31.15810535  17.67575827  24.96909436]\n",
      "Mean:  21.2050956332\n",
      "Standard deviation 5.38313220924\n"
     ]
    }
   ],
   "source": [
    "display_scores(forest_scores)"
   ]
  },
  {
   "cell_type": "markdown",
   "metadata": {},
   "source": [
    "**Fine Tuning HyperParameters** of the random forest regressor with:\n",
    "* scikit-learn's GridSearchCV\n",
    "* scikit-optimize's BayesSearchCV"
   ]
  },
  {
   "cell_type": "code",
   "execution_count": 99,
   "metadata": {},
   "outputs": [
    {
     "data": {
      "text/plain": [
       "['./PklJar/Models/doc_6_forest.pkl']"
      ]
     },
     "execution_count": 99,
     "metadata": {},
     "output_type": "execute_result"
    }
   ],
   "source": [
    "# First pickle all models trained so far...\n",
    "joblib.dump(lin_reg_doc, './PklJar/Models/doc_6_lin_reg.pkl')\n",
    "joblib.dump(sgd_doc, './PklJar/Models/doc_6_sgd.pkl')\n",
    "joblib.dump(tree_doc, './PklJar/Models/doc_6_tree.pkl')\n",
    "joblib.dump(forest_doc, './PklJar/Models/doc_6_forest.pkl')"
   ]
  },
  {
   "cell_type": "code",
   "execution_count": null,
   "metadata": {
    "collapsed": true
   },
   "outputs": [],
   "source": []
  }
 ],
 "metadata": {
  "kernelspec": {
   "display_name": "Python 3",
   "language": "python",
   "name": "python3"
  },
  "language_info": {
   "codemirror_mode": {
    "name": "ipython",
    "version": 3
   },
   "file_extension": ".py",
   "mimetype": "text/x-python",
   "name": "python",
   "nbconvert_exporter": "python",
   "pygments_lexer": "ipython3",
   "version": "3.6.2"
  }
 },
 "nbformat": 4,
 "nbformat_minor": 2
}
