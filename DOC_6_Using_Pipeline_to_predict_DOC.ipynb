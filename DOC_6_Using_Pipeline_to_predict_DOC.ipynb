{
 "cells": [
  {
   "cell_type": "markdown",
   "metadata": {},
   "source": [
    "### GOAL\n",
    "Here I explore training results/validation results for a few algorithms, trying to predict DOC with one two preprocessing pipelines designed in \n",
    "the notebook \"DOC_5_Pipeline_Design_for_PreProcessing.ipynb\""
   ]
  },
  {
   "cell_type": "code",
   "execution_count": 267,
   "metadata": {},
   "outputs": [],
   "source": [
    "import pandas as pd\n",
    "import numpy as np\n",
    "import pickle\n",
    "from sklearn.base import BaseEstimator, TransformerMixin\n",
    "from sklearn.model_selection import cross_val_score\n",
    "from sklearn.linear_model import LinearRegression, SGDRegressor, Lasso, Ridge, ElasticNet\n",
    "from sklearn.tree import DecisionTreeRegressor, export_graphviz\n",
    "import graphviz\n",
    "from scipy.stats import distributions as SSD\n",
    "from sklearn.ensemble import RandomForestRegressor, ExtraTreesRegressor\n",
    "from sklearn.model_selection import GridSearchCV, RandomizedSearchCV\n",
    "from sklearn.metrics import mean_squared_error\n",
    "from sklearn.svm import SVR\n",
    "from sklearn.pipeline import Pipeline\n",
    "from sklearn.preprocessing import Imputer, StandardScaler\n",
    "from sklearn.externals import joblib\n",
    "from seaborn import heatmap\n",
    "from IPython.core.display import HTML, display\n",
    "import matplotlib.pyplot as pl"
   ]
  },
  {
   "cell_type": "code",
   "execution_count": 60,
   "metadata": {
    "collapsed": true
   },
   "outputs": [],
   "source": [
    "from sklearn import __version__ as skl_version"
   ]
  },
  {
   "cell_type": "code",
   "execution_count": 61,
   "metadata": {},
   "outputs": [
    {
     "name": "stdout",
     "output_type": "stream",
     "text": [
      "0.19.0\n"
     ]
    }
   ],
   "source": [
    "print(skl_version)"
   ]
  },
  {
   "cell_type": "code",
   "execution_count": 2,
   "metadata": {},
   "outputs": [
    {
     "data": {
      "text/html": [
       "<style>.container {width: 90% !important}</style>"
      ],
      "text/plain": [
       "<IPython.core.display.HTML object>"
      ]
     },
     "metadata": {},
     "output_type": "display_data"
    }
   ],
   "source": [
    "%matplotlib inline\n",
    "display(HTML(\"<style>.container {width: 90% !important}</style>\"))"
   ]
  },
  {
   "cell_type": "code",
   "execution_count": 47,
   "metadata": {},
   "outputs": [],
   "source": [
    "def GetRrsIdx(df, label_list=None):\n",
    "    if label_list:\n",
    "        return [df.columns.get_loc(label) for label in label_list]\n",
    "    else:\n",
    "        return [df.columns.get_loc(col) for col in df.filter(like='Rrs', axis=1).columns]\n",
    "\n",
    "\n",
    "class BandRatioAdder(BaseEstimator, TransformerMixin):\n",
    "    \"\"\" class to add attributes. \"\"\"\n",
    "    def __init__(self):\n",
    "        return None\n",
    "    \n",
    "    def fit(self, X, y=None):\n",
    "        return self\n",
    "    \n",
    "    def transform(self, X, y=None):\n",
    "        rrs443_ix, rrs531_ix, rrs555_ix = 3, 4, 5\n",
    "        band_ratio_531_443 = X[:, rrs531_ix] / X[:, rrs443_ix]\n",
    "        band_ratio_555_443 = X[:, rrs555_ix] / X[:, rrs443_ix]\n",
    "        return np.c_[X, band_ratio_531_443, band_ratio_555_443]\n",
    "\n",
    "\n",
    "class RrsLogTransformer(BaseEstimator, TransformerMixin):\n",
    "    def __init__(self):\n",
    "        return None\n",
    "\n",
    "    def fit(self, X, y=None):\n",
    "        return self\n",
    "    \n",
    "    def transform(self, X, y=None):\n",
    "        rrs_ix_list = [2, 3, 4, 5, 6, 7, 8]\n",
    "        X[:, rrs_ix_list] = np.log(X[:, rrs_ix_list])\n",
    "        return X\n",
    "\n",
    "def AssessModel(regressor, feats, labels, model_name=''):\n",
    "    preds = regressor.predict(feats)\n",
    "    model_mse = mean_squared_error(labels, preds)\n",
    "    print(\"%s rmse: %.3f\" % (model_name, np.sqrt(model_mse)))\n",
    "\n",
    "def display_scores(scores):\n",
    "    rmse_scores = np.sqrt(-scores)\n",
    "    print(\"Scores: \" , rmse_scores)\n",
    "    print(\"Mean: \", rmse_scores.mean())\n",
    "    print(\"Standard deviation\", rmse_scores.std())\n",
    "\n",
    "doc_ag412_pipeline = Pipeline([('imputer', Imputer(strategy='median')),\n",
    "                               ('br_adder', BandRatioAdder()),\n",
    "                               ('std_scaler', StandardScaler())])"
   ]
  },
  {
   "cell_type": "code",
   "execution_count": 4,
   "metadata": {
    "collapsed": true
   },
   "outputs": [],
   "source": [
    "with open('./PklJar/TrainSet.pkl', 'rb') as fb:\n",
    "    trainFrames = pickle.load(fb)\n",
    "dfTrainFeatures = trainFrames['features']\n",
    "dfTrainLabels = trainFrames['labels']"
   ]
  },
  {
   "cell_type": "markdown",
   "metadata": {},
   "source": [
    "**CAUTION:** functions implemented in the pipeline must be in the namespace.\n",
    "\n",
    "In this case, these are contained in Helpers.py (imported above)"
   ]
  },
  {
   "cell_type": "code",
   "execution_count": 5,
   "metadata": {
    "collapsed": true
   },
   "outputs": [],
   "source": [
    "rrs443_ix, rrs531_ix, rrs555_ix = GetRrsIdx(dfTrainFeatures,\n",
    "                                            label_list=['Rrs443', 'Rrs531', 'Rrs555'])\n",
    "rrs_ix_list = GetRrsIdx(dfTrainFeatures)\n",
    "rrs_ix_list = rrs_ix_list + [rrs_ix_list[-1] + 1, rrs_ix_list[-1] + 2]"
   ]
  },
  {
   "cell_type": "code",
   "execution_count": 195,
   "metadata": {},
   "outputs": [
    {
     "data": {
      "text/plain": [
       "['SST',\n",
       " 'SSS',\n",
       " 'Rrs412',\n",
       " 'Rrs443',\n",
       " 'Rrs531',\n",
       " 'Rrs555',\n",
       " 'Rrs667',\n",
       " 'br_531_443',\n",
       " 'br_555_443']"
      ]
     },
     "execution_count": 195,
     "metadata": {},
     "output_type": "execute_result"
    }
   ],
   "source": [
    "features_names"
   ]
  },
  {
   "cell_type": "code",
   "execution_count": 274,
   "metadata": {},
   "outputs": [],
   "source": [
    "rrs443_ix, rrs531_ix, rrs555_ix = 3, 4, 5"
   ]
  },
  {
   "cell_type": "code",
   "execution_count": 275,
   "metadata": {},
   "outputs": [
    {
     "data": {
      "text/plain": [
       "(3, 4, 5)"
      ]
     },
     "execution_count": 275,
     "metadata": {},
     "output_type": "execute_result"
    }
   ],
   "source": [
    "rrs443_ix, rrs531_ix, rrs555_ix "
   ]
  },
  {
   "cell_type": "markdown",
   "metadata": {},
   "source": [
    "Training & evaluation on the Training Set"
   ]
  },
  {
   "cell_type": "code",
   "execution_count": 253,
   "metadata": {},
   "outputs": [],
   "source": [
    "doc_features_preprocessed = doc_ag412_pipeline.fit_transform(dfTrainFeatures.values)"
   ]
  },
  {
   "cell_type": "code",
   "execution_count": 7,
   "metadata": {},
   "outputs": [],
   "source": [
    "doc_labels = dfTrainLabels.as_matrix(columns=['doc'])"
   ]
  },
  {
   "cell_type": "code",
   "execution_count": 8,
   "metadata": {},
   "outputs": [
    {
     "data": {
      "text/plain": [
       "LinearRegression(copy_X=True, fit_intercept=True, n_jobs=1, normalize=False)"
      ]
     },
     "execution_count": 8,
     "metadata": {},
     "output_type": "execute_result"
    }
   ],
   "source": [
    "lin_reg_doc = LinearRegression()\n",
    "lin_reg_doc.fit(doc_features_preprocessed, doc_labels)"
   ]
  },
  {
   "cell_type": "code",
   "execution_count": 30,
   "metadata": {},
   "outputs": [
    {
     "name": "stdout",
     "output_type": "stream",
     "text": [
      "lin_reg rmse: 21.584\n"
     ]
    }
   ],
   "source": [
    "AssessModel(lin_reg_doc, doc_features_preprocessed, doc_labels, model_name='lin_reg' )"
   ]
  },
  {
   "cell_type": "code",
   "execution_count": 34,
   "metadata": {},
   "outputs": [
    {
     "data": {
      "text/plain": [
       "SGDRegressor(alpha=0.0001, average=False, epsilon=0.1, eta0=0.01,\n",
       "       fit_intercept=True, l1_ratio=0.15, learning_rate='invscaling',\n",
       "       loss='squared_loss', max_iter=1000, n_iter=None, penalty='l2',\n",
       "       power_t=0.25, random_state=None, shuffle=True, tol=None, verbose=0,\n",
       "       warm_start=False)"
      ]
     },
     "execution_count": 34,
     "metadata": {},
     "output_type": "execute_result"
    }
   ],
   "source": [
    "sgd_doc = SGDRegressor(max_iter=1000)\n",
    "sgd_doc.fit(doc_features_preprocessed, doc_labels.reshape((-1,)))"
   ]
  },
  {
   "cell_type": "code",
   "execution_count": 35,
   "metadata": {},
   "outputs": [
    {
     "name": "stdout",
     "output_type": "stream",
     "text": [
      "sgd rmse: 21.601\n"
     ]
    }
   ],
   "source": [
    "AssessModel(sgd_doc, doc_features_preprocessed, doc_labels, model_name='sgd')"
   ]
  },
  {
   "cell_type": "code",
   "execution_count": 44,
   "metadata": {
    "collapsed": true
   },
   "outputs": [],
   "source": [
    "# comparing to lin_reg and sgd\n",
    "lin_reg_scores = cross_val_score(lin_reg_doc, doc_features_preprocessed, doc_labels,\n",
    "                                scoring='neg_mean_squared_error', cv=10)\n",
    "sgd_scores = cross_val_score(sgd_doc, doc_features_preprocessed, doc_labels.reshape((-1,)),\n",
    "                            scoring='neg_mean_squared_error', cv=10)"
   ]
  },
  {
   "cell_type": "code",
   "execution_count": 49,
   "metadata": {},
   "outputs": [
    {
     "name": "stdout",
     "output_type": "stream",
     "text": [
      "Scores:  [ 20.73787638  20.15781999  21.87362437  15.42237922  17.06222598\n",
      "  28.24074133  28.27423931  42.74516779  22.1058328   21.69912084]\n",
      "Mean:  23.8319028007\n",
      "Standard deviation 7.40180538491\n"
     ]
    }
   ],
   "source": [
    "display_scores(lin_reg_scores)"
   ]
  },
  {
   "cell_type": "code",
   "execution_count": 50,
   "metadata": {},
   "outputs": [
    {
     "name": "stdout",
     "output_type": "stream",
     "text": [
      "Scores:  [ 20.88940831  20.22516235  21.73665881  15.24791377  16.48080812\n",
      "  27.34215976  28.45216958  42.36234314  22.00228579  21.64682123]\n",
      "Mean:  23.6385730858\n",
      "Standard deviation 7.33876462849\n"
     ]
    }
   ],
   "source": [
    "display_scores(sgd_scores)"
   ]
  },
  {
   "cell_type": "code",
   "execution_count": 180,
   "metadata": {},
   "outputs": [
    {
     "name": "stdout",
     "output_type": "stream",
     "text": [
      "ridge rmse: 21.623\n"
     ]
    }
   ],
   "source": [
    "ridge_doc = Ridge()\n",
    "ridge_doc.fit(doc_features_preprocessed, doc_labels)\n",
    "AssessModel(ridge_doc, doc_features_preprocessed, doc_labels, model_name='ridge')"
   ]
  },
  {
   "cell_type": "code",
   "execution_count": 187,
   "metadata": {},
   "outputs": [
    {
     "name": "stdout",
     "output_type": "stream",
     "text": [
      "lasso rmse: 21.607\n"
     ]
    }
   ],
   "source": [
    "lasso_doc = Lasso(alpha=0.05)\n",
    "lasso_doc.fit(doc_features_preprocessed, doc_labels)\n",
    "AssessModel(lasso_doc, doc_features_preprocessed, doc_labels, model_name='lasso')"
   ]
  },
  {
   "cell_type": "code",
   "execution_count": 193,
   "metadata": {},
   "outputs": [
    {
     "name": "stdout",
     "output_type": "stream",
     "text": [
      "ElasticNet rmse: 21.816\n"
     ]
    }
   ],
   "source": [
    "e_net_doc = ElasticNet(alpha=0.1, l1_ratio=0.9)\n",
    "e_net_doc.fit(doc_features_preprocessed, doc_labels)\n",
    "AssessModel(e_net_doc, doc_features_preprocessed, doc_labels, model_name='ElasticNet')"
   ]
  },
  {
   "cell_type": "code",
   "execution_count": 36,
   "metadata": {},
   "outputs": [
    {
     "data": {
      "text/plain": [
       "DecisionTreeRegressor(criterion='mse', max_depth=None, max_features=None,\n",
       "           max_leaf_nodes=None, min_impurity_decrease=0.0,\n",
       "           min_impurity_split=None, min_samples_leaf=1,\n",
       "           min_samples_split=2, min_weight_fraction_leaf=0.0,\n",
       "           presort=False, random_state=None, splitter='best')"
      ]
     },
     "execution_count": 36,
     "metadata": {},
     "output_type": "execute_result"
    }
   ],
   "source": [
    "tree_doc = DecisionTreeRegressor()\n",
    "tree_doc.fit(doc_features_preprocessed, doc_labels)"
   ]
  },
  {
   "cell_type": "code",
   "execution_count": null,
   "metadata": {
    "collapsed": true
   },
   "outputs": [],
   "source": []
  },
  {
   "cell_type": "code",
   "execution_count": 37,
   "metadata": {},
   "outputs": [
    {
     "name": "stdout",
     "output_type": "stream",
     "text": [
      "d-tree rmse: 0.000\n"
     ]
    }
   ],
   "source": [
    "AssessModel(tree_doc, doc_features_preprocessed, doc_labels, model_name='d-tree')"
   ]
  },
  {
   "cell_type": "markdown",
   "metadata": {},
   "source": [
    "Mitigating the decision tree overfit using k-fold cross-validation"
   ]
  },
  {
   "cell_type": "code",
   "execution_count": 46,
   "metadata": {
    "collapsed": true
   },
   "outputs": [],
   "source": [
    "tree_scores = cross_val_score(tree_doc, doc_features_preprocessed, doc_labels,\n",
    "                        scoring='neg_mean_squared_error', cv=10)"
   ]
  },
  {
   "cell_type": "code",
   "execution_count": 48,
   "metadata": {},
   "outputs": [
    {
     "name": "stdout",
     "output_type": "stream",
     "text": [
      "Scores:  [ 27.35474036  31.00433296  16.81202746  25.80543546  20.4533907\n",
      "  25.46563619  36.15110518  42.27280109  32.35785155  30.10684743]\n",
      "Mean:  28.7784168402\n",
      "Standard deviation 7.00233708537\n"
     ]
    }
   ],
   "source": [
    "display_scores(tree_scores)"
   ]
  },
  {
   "cell_type": "code",
   "execution_count": 64,
   "metadata": {
    "collapsed": true
   },
   "outputs": [],
   "source": [
    "features_names = dfTrainFeatures.columns.tolist() + ['br_531_443', 'br_555_443']"
   ]
  },
  {
   "cell_type": "code",
   "execution_count": 87,
   "metadata": {},
   "outputs": [],
   "source": [
    "feature_scores = [(name,score) for name, score in zip(features_names,\n",
    "                                                     tree_doc.feature_importances_)]"
   ]
  },
  {
   "cell_type": "code",
   "execution_count": 88,
   "metadata": {},
   "outputs": [
    {
     "data": {
      "text/plain": [
       "[('SST', 0.023060026520039169),\n",
       " ('SSS', 0.86001633157142854),\n",
       " ('Rrs412', 0.0073552344742274459),\n",
       " ('Rrs443', 0.00087997498170493474),\n",
       " ('Rrs531', 0.028769476761792284),\n",
       " ('Rrs555', 0.021440038049392696),\n",
       " ('Rrs667', 0.015271590344997988),\n",
       " ('br_531_443', 0.033028757552767518),\n",
       " ('br_555_443', 0.010178569743649491)]"
      ]
     },
     "execution_count": 88,
     "metadata": {},
     "output_type": "execute_result"
    }
   ],
   "source": [
    "feature_scores"
   ]
  },
  {
   "cell_type": "code",
   "execution_count": 91,
   "metadata": {},
   "outputs": [],
   "source": [
    "sorted_feature_scores = sorted(feature_scores, key=lambda x: x[1], reverse=True)"
   ]
  },
  {
   "cell_type": "code",
   "execution_count": 92,
   "metadata": {},
   "outputs": [
    {
     "data": {
      "text/plain": [
       "[('SSS', 0.86001633157142854),\n",
       " ('br_531_443', 0.033028757552767518),\n",
       " ('Rrs531', 0.028769476761792284),\n",
       " ('SST', 0.023060026520039169),\n",
       " ('Rrs555', 0.021440038049392696),\n",
       " ('Rrs667', 0.015271590344997988),\n",
       " ('br_555_443', 0.010178569743649491),\n",
       " ('Rrs412', 0.0073552344742274459),\n",
       " ('Rrs443', 0.00087997498170493474)]"
      ]
     },
     "execution_count": 92,
     "metadata": {},
     "output_type": "execute_result"
    }
   ],
   "source": [
    "sorted_feature_scores"
   ]
  },
  {
   "cell_type": "code",
   "execution_count": 219,
   "metadata": {
    "scrolled": false
   },
   "outputs": [],
   "source": [
    "export_graphviz(tree_doc, out_file='./FigJar/tree_example.dot', feature_names=features_names)"
   ]
  },
  {
   "cell_type": "code",
   "execution_count": 94,
   "metadata": {},
   "outputs": [
    {
     "data": {
      "text/plain": [
       "RandomForestRegressor(bootstrap=True, criterion='mse', max_depth=None,\n",
       "           max_features='auto', max_leaf_nodes=None,\n",
       "           min_impurity_decrease=0.0, min_impurity_split=None,\n",
       "           min_samples_leaf=1, min_samples_split=2,\n",
       "           min_weight_fraction_leaf=0.0, n_estimators=10, n_jobs=1,\n",
       "           oob_score=False, random_state=None, verbose=0, warm_start=False)"
      ]
     },
     "execution_count": 94,
     "metadata": {},
     "output_type": "execute_result"
    }
   ],
   "source": [
    "forest_doc = RandomForestRegressor()\n",
    "forest_doc.fit(doc_features_preprocessed, doc_labels.ravel())"
   ]
  },
  {
   "cell_type": "code",
   "execution_count": 96,
   "metadata": {},
   "outputs": [],
   "source": [
    "forest_scores = cross_val_score(forest_doc, doc_features_preprocessed,\n",
    "                                doc_labels.ravel(), \n",
    "                                scoring='neg_mean_squared_error', cv=10)"
   ]
  },
  {
   "cell_type": "code",
   "execution_count": 97,
   "metadata": {},
   "outputs": [
    {
     "name": "stdout",
     "output_type": "stream",
     "text": [
      "Scores:  [ 17.24582528  20.42944063  18.27214692  14.75014539  16.02748236\n",
      "  21.93918614  29.58377162  31.15810535  17.67575827  24.96909436]\n",
      "Mean:  21.2050956332\n",
      "Standard deviation 5.38313220924\n"
     ]
    }
   ],
   "source": [
    "display_scores(forest_scores)"
   ]
  },
  {
   "cell_type": "markdown",
   "metadata": {},
   "source": [
    "**Fine Tuning HyperParameters** of the random forest regressor with:\n",
    "* scikit-learn's GridSearchCV\n",
    "* scikit-optimize's BayesSearchCV"
   ]
  },
  {
   "cell_type": "code",
   "execution_count": 99,
   "metadata": {},
   "outputs": [
    {
     "data": {
      "text/plain": [
       "['./PklJar/Models/doc_6_forest.pkl']"
      ]
     },
     "execution_count": 99,
     "metadata": {},
     "output_type": "execute_result"
    }
   ],
   "source": [
    "# First pickle all models trained so far...\n",
    "joblib.dump(lin_reg_doc, './PklJar/Models/doc_6_lin_reg.pkl')\n",
    "joblib.dump(sgd_doc, './PklJar/Models/doc_6_sgd.pkl')\n",
    "joblib.dump(tree_doc, './PklJar/Models/doc_6_tree.pkl')\n",
    "joblib.dump(forest_doc, './PklJar/Models/doc_6_forest.pkl')"
   ]
  },
  {
   "cell_type": "markdown",
   "metadata": {},
   "source": [
    "### Hyper Parameter tuning using Grid Search and Randomized Search\n",
    "#### <u>Random Forest</u> trained using Grid Search and K-fold Cross-Validation (GridSearchCV)"
   ]
  },
  {
   "cell_type": "code",
   "execution_count": 200,
   "metadata": {
    "collapsed": true
   },
   "outputs": [],
   "source": [
    "param_grid_forest = [\n",
    "    {'n_estimators': [80, 100, 200, 300, 400, 500, 600], 'max_features': [3, 5, 7, 'auto', 'sqrt', 'log2']},\n",
    "    #{'bootstrap': [False], 'n_estimators': [30, 50, 70, 100], 'max_features': [2, 5, 8]}\n",
    "]"
   ]
  },
  {
   "cell_type": "code",
   "execution_count": 201,
   "metadata": {},
   "outputs": [
    {
     "data": {
      "text/plain": [
       "GridSearchCV(cv=5, error_score='raise',\n",
       "       estimator=RandomForestRegressor(bootstrap=True, criterion='mse', max_depth=None,\n",
       "           max_features='auto', max_leaf_nodes=None,\n",
       "           min_impurity_decrease=0.0, min_impurity_split=None,\n",
       "           min_samples_leaf=1, min_samples_split=2,\n",
       "           min_weight_fraction_leaf=0.0, n_estimators=10, n_jobs=1,\n",
       "           oob_score=False, random_state=None, verbose=0, warm_start=False),\n",
       "       fit_params=None, iid=True, n_jobs=1,\n",
       "       param_grid=[{'n_estimators': [80, 100, 200, 300, 400, 500, 600], 'max_features': [3, 5, 7, 'auto', 'sqrt', 'log2']}],\n",
       "       pre_dispatch='2*n_jobs', refit=True, return_train_score=True,\n",
       "       scoring='neg_mean_squared_error', verbose=0)"
      ]
     },
     "execution_count": 201,
     "metadata": {},
     "output_type": "execute_result"
    }
   ],
   "source": [
    "forest_doc_2 = RandomForestRegressor()\n",
    "grid_search_forest = GridSearchCV(forest_doc_2, param_grid_forest, cv=5, scoring='neg_mean_squared_error')\n",
    "grid_search_forest.fit(doc_features_preprocessed, doc_labels.ravel())"
   ]
  },
  {
   "cell_type": "code",
   "execution_count": 276,
   "metadata": {
    "collapsed": true
   },
   "outputs": [],
   "source": [
    "grid_forest = grid_search_forest.best_estimator_"
   ]
  },
  {
   "cell_type": "code",
   "execution_count": 202,
   "metadata": {},
   "outputs": [
    {
     "data": {
      "text/plain": [
       "{'max_features': 5, 'n_estimators': 100}"
      ]
     },
     "execution_count": 202,
     "metadata": {},
     "output_type": "execute_result"
    }
   ],
   "source": [
    "grid_search_forest.best_params_"
   ]
  },
  {
   "cell_type": "code",
   "execution_count": 285,
   "metadata": {},
   "outputs": [
    {
     "name": "stdout",
     "output_type": "stream",
     "text": [
      "21.0156381051 {'max_features': 5, 'n_estimators': 100}\n",
      "21.0361471697 {'max_features': 7, 'n_estimators': 600}\n",
      "21.0594815815 {'max_features': 7, 'n_estimators': 400}\n",
      "21.161166091 {'max_features': 7, 'n_estimators': 500}\n",
      "21.180933087 {'max_features': 7, 'n_estimators': 200}\n"
     ]
    }
   ],
   "source": [
    "cvres = grid_search_forest.cv_results_\n",
    "for mean_score, params in sorted(zip(cvres['mean_test_score'], cvres['params']), reverse=True)[:5]:\n",
    "    print(np.sqrt(-mean_score), params)"
   ]
  },
  {
   "cell_type": "code",
   "execution_count": 283,
   "metadata": {},
   "outputs": [
    {
     "name": "stdout",
     "output_type": "stream",
     "text": [
      "feature: SSS, score: 0.5803666664300997\n",
      "feature: br_531_443, score: 0.11047150257024325\n",
      "feature: Rrs667, score: 0.09414732559067467\n",
      "feature: br_555_443, score: 0.08178003301941139\n",
      "feature: SST, score: 0.03844657927731698\n",
      "feature: Rrs555, score: 0.03689808041478406\n",
      "feature: Rrs531, score: 0.021684805869839684\n",
      "feature: Rrs412, score: 0.018398289009892897\n",
      "feature: Rrs443, score: 0.01780671781773745\n"
     ]
    }
   ],
   "source": [
    "# Features ranked by decreasing importance\n",
    "for name, importance in sorted(zip(features_names, grid_forest.feature_importances_),\n",
    "                               key=lambda x: x[1], reverse=True):\n",
    "    print(f'feature: {name}, score: {importance}')"
   ]
  },
  {
   "cell_type": "markdown",
   "metadata": {},
   "source": [
    "#### <u>Random Forest</u> using Randomized Search and K-fold Cross-Validation (RandomizedSearchCV)"
   ]
  },
  {
   "cell_type": "code",
   "execution_count": 297,
   "metadata": {},
   "outputs": [],
   "source": [
    "param_grid_forest_2 = param_dist = {'n_estimators': SSD.poisson(500),\n",
    "                                    'max_depth': [3, None],\n",
    "                                    'max_features': SSD.randint(low=1, high=9),\n",
    "                                    'min_samples_split': SSD.randint(2, 11),\n",
    "                                    'min_samples_leaf': SSD.randint(1, 11),\n",
    "                                    'bootstrap': [True, False],\n",
    "                                    'criterion': ['mse', 'mae']}"
   ]
  },
  {
   "cell_type": "code",
   "execution_count": 298,
   "metadata": {},
   "outputs": [],
   "source": [
    "forest_doc = RandomForestRegressor()\n",
    "rand_search_forest = RandomizedSearchCV(forest_doc, param_distributions=param_grid_forest_2,\n",
    "                                       scoring='neg_mean_squared_error', cv=5, n_iter=100)\n",
    "rand_search_forest.fit(doc_features_preprocessed, doc_labels.ravel())\n",
    "rand_forest = rand_search_forest.best_estimator_"
   ]
  },
  {
   "cell_type": "code",
   "execution_count": 299,
   "metadata": {},
   "outputs": [
    {
     "name": "stdout",
     "output_type": "stream",
     "text": [
      "feature: SSS, score: 0.6783578920795299\n",
      "feature: Rrs667, score: 0.08616714125285456\n",
      "feature: br_531_443, score: 0.07813575197105779\n",
      "feature: br_555_443, score: 0.06299479822945551\n",
      "feature: SST, score: 0.03210372368305944\n",
      "feature: Rrs555, score: 0.020615114657153454\n",
      "feature: Rrs531, score: 0.017374194561803443\n",
      "feature: Rrs412, score: 0.012876467182423405\n",
      "feature: Rrs443, score: 0.011374916382662133\n"
     ]
    }
   ],
   "source": [
    "# Features ranked by decreasing importance\n",
    "for name, importance in sorted(zip(features_names, rand_forest.feature_importances_),\n",
    "                               key=lambda x: x[1], reverse=True):\n",
    "    print(f'feature: {name}, score: {importance}')"
   ]
  },
  {
   "cell_type": "code",
   "execution_count": 302,
   "metadata": {},
   "outputs": [
    {
     "data": {
      "text/plain": [
       "{'bootstrap': True,\n",
       " 'criterion': 'mse',\n",
       " 'max_depth': None,\n",
       " 'max_features': 6,\n",
       " 'min_samples_leaf': 2,\n",
       " 'min_samples_split': 5,\n",
       " 'n_estimators': 456}"
      ]
     },
     "execution_count": 302,
     "metadata": {},
     "output_type": "execute_result"
    }
   ],
   "source": [
    "rand_search_forest.best_params_"
   ]
  },
  {
   "cell_type": "markdown",
   "metadata": {},
   "source": [
    "#### <u>Support Vector Regressor (SVR)</u> trained using GridSearchCV"
   ]
  },
  {
   "cell_type": "code",
   "execution_count": 213,
   "metadata": {},
   "outputs": [],
   "source": [
    "C_start, C_end = 0.001, 1000\n",
    "gamma_start, gamma_end = 0.001, 10\n",
    "C_range = np.geomspace(C_start, C_end, num=int(np.log10(C_end/C_start) + 1))\n",
    "gamma_range = np.geomspace(gamma_start, gamma_end, num=int(np.log10(gamma_end/gamma_start)+1)*2)\n",
    "param_grid_svr = [{'kernel': ['linear'], 'C': C_range },\n",
    "                  { 'kernel': ['rbf'], 'C': C_range, 'gamma': gamma_range}]"
   ]
  },
  {
   "cell_type": "code",
   "execution_count": 214,
   "metadata": {},
   "outputs": [
    {
     "data": {
      "text/plain": [
       "GridSearchCV(cv=5, error_score='raise',\n",
       "       estimator=SVR(C=1.0, cache_size=200, coef0=0.0, degree=3, epsilon=0.1, gamma='auto',\n",
       "  kernel='rbf', max_iter=-1, shrinking=True, tol=0.001, verbose=False),\n",
       "       fit_params=None, iid=True, n_jobs=1,\n",
       "       param_grid=[{'kernel': ['linear'], 'C': array([  1.00000e-03,   1.00000e-02,   1.00000e-01,   1.00000e+00,\n",
       "         1.00000e+01,   1.00000e+02,   1.00000e+03])}, {'kernel': ['rbf'], 'C': array([  1.00000e-03,   1.00000e-02,   1.00000e-01,   1.00000e+00,\n",
       "         1.00000e+01,   1.00000e+02,   1.00000e+03]), 'gamma': array([  1.00000e-03,   2.78256e-03,   7.74264e-03,   2.15443e-02,\n",
       "         5.99484e-02,   1.66810e-01,   4.64159e-01,   1.29155e+00,\n",
       "         3.59381e+00,   1.00000e+01])}],\n",
       "       pre_dispatch='2*n_jobs', refit=True, return_train_score=True,\n",
       "       scoring='neg_mean_squared_error', verbose=0)"
      ]
     },
     "execution_count": 214,
     "metadata": {},
     "output_type": "execute_result"
    }
   ],
   "source": [
    "svr_doc = SVR()\n",
    "grid_search_svr = GridSearchCV(svr_doc, param_grid_svr, cv=5, scoring='neg_mean_squared_error')\n",
    "grid_search_svr.fit(doc_features_preprocessed, doc_labels.ravel())"
   ]
  },
  {
   "cell_type": "code",
   "execution_count": 262,
   "metadata": {},
   "outputs": [],
   "source": [
    "grid_svr = grid_search_svr.best_estimator_"
   ]
  },
  {
   "cell_type": "code",
   "execution_count": 281,
   "metadata": {},
   "outputs": [
    {
     "name": "stdout",
     "output_type": "stream",
     "text": [
      "22.4761618359 {'C': 100.0, 'gamma': 0.021544346900318832, 'kernel': 'rbf'}\n",
      "22.6515631321 {'C': 1000.0, 'gamma': 0.0027825594022071257, 'kernel': 'rbf'}\n",
      "22.805247019 {'C': 1000.0, 'gamma': 0.0077426368268112694, 'kernel': 'rbf'}\n",
      "23.3099925444 {'C': 100.0, 'kernel': 'linear'}\n",
      "23.3296119807 {'C': 1000.0, 'kernel': 'linear'}\n",
      "23.3618165906 {'C': 10.0, 'kernel': 'linear'}\n",
      "23.4599317984 {'C': 100.0, 'gamma': 0.0077426368268112694, 'kernel': 'rbf'}\n",
      "23.8058195368 {'C': 1000.0, 'gamma': 0.021544346900318832, 'kernel': 'rbf'}\n",
      "23.8505184092 {'C': 1000.0, 'gamma': 0.001, 'kernel': 'rbf'}\n",
      "24.0038912559 {'C': 100.0, 'gamma': 0.059948425031894091, 'kernel': 'rbf'}\n",
      "24.7495684643 {'C': 1.0, 'kernel': 'linear'}\n",
      "24.9114453444 {'C': 100.0, 'gamma': 0.1668100537200059, 'kernel': 'rbf'}\n",
      "25.3843400094 {'C': 100.0, 'gamma': 0.0027825594022071257, 'kernel': 'rbf'}\n",
      "26.0344213987 {'C': 10.0, 'gamma': 0.059948425031894091, 'kernel': 'rbf'}\n",
      "26.0599326271 {'C': 1000.0, 'gamma': 0.059948425031894091, 'kernel': 'rbf'}\n"
     ]
    }
   ],
   "source": [
    "cvres = grid_search_svr.cv_results_\n",
    "show_result_num = 15\n",
    "for mean_score, params in  sorted(zip(cvres['mean_test_score'], cvres['params']), reverse=True)[:show_result_num]:\n",
    "    print(np.sqrt(-mean_score), params)"
   ]
  },
  {
   "cell_type": "markdown",
   "metadata": {},
   "source": [
    "#### <u>SVR</u> using RandomizedSearchCV"
   ]
  },
  {
   "cell_type": "code",
   "execution_count": 243,
   "metadata": {},
   "outputs": [
    {
     "data": {
      "text/plain": [
       "RandomizedSearchCV(cv=5, error_score='raise',\n",
       "          estimator=SVR(C=1.0, cache_size=200, coef0=0.0, degree=3, epsilon=0.1, gamma='auto',\n",
       "  kernel='rbf', max_iter=-1, shrinking=True, tol=0.001, verbose=False),\n",
       "          fit_params=None, iid=True, n_iter=100, n_jobs=1,\n",
       "          param_distributions={'kernel': ['rbf'], 'C': <scipy.stats._distn_infrastructure.rv_frozen object at 0x7fb5e95d5e10>, 'gamma': <scipy.stats._distn_infrastructure.rv_frozen object at 0x7fb5e9e71f98>},\n",
       "          pre_dispatch='2*n_jobs', random_state=None, refit=True,\n",
       "          return_train_score=True, scoring='neg_mean_squared_error',\n",
       "          verbose=0)"
      ]
     },
     "execution_count": 243,
     "metadata": {},
     "output_type": "execute_result"
    }
   ],
   "source": [
    "param_grid_svr_2 = {'kernel': ['rbf'], 'C': SSD.expon(scale=500), 'gamma': SSD.expon(scale=0.1)}\n",
    "svr_doc = SVR()\n",
    "rand_search_svr = RandomizedSearchCV(svr_doc, param_distributions=param_grid_svr_2,\n",
    "                                     scoring='neg_mean_squared_error', cv=5, n_iter=100)\n",
    "rand_search_svr.fit(doc_features_preprocessed, doc_labels.ravel())"
   ]
  },
  {
   "cell_type": "code",
   "execution_count": 245,
   "metadata": {},
   "outputs": [
    {
     "name": "stdout",
     "output_type": "stream",
     "text": [
      "22.4243664554 {'C': 303.10365744231819, 'gamma': 0.012308071293193517, 'kernel': 'rbf'}\n",
      "22.4319030822 {'C': 190.33225287110199, 'gamma': 0.014624728871265612, 'kernel': 'rbf'}\n",
      "22.4856000102 {'C': 374.11590000424223, 'gamma': 0.010671094542824233, 'kernel': 'rbf'}\n",
      "22.5008121606 {'C': 138.17526037645769, 'gamma': 0.016249706755990221, 'kernel': 'rbf'}\n",
      "22.5296812884 {'C': 344.72573881537357, 'gamma': 0.015026724458630148, 'kernel': 'rbf'}\n",
      "22.552098151 {'C': 158.95344647544314, 'gamma': 0.014001796701789419, 'kernel': 'rbf'}\n",
      "22.6080641154 {'C': 484.49042027379954, 'gamma': 0.0048955759138413803, 'kernel': 'rbf'}\n",
      "22.725245491 {'C': 73.085092672714637, 'gamma': 0.023536091249112399, 'kernel': 'rbf'}\n",
      "22.7871294257 {'C': 822.53236779158658, 'gamma': 0.006347432810124099, 'kernel': 'rbf'}\n",
      "22.890990654 {'C': 428.74047046334908, 'gamma': 0.016010496500786606, 'kernel': 'rbf'}\n",
      "22.9618315898 {'C': 346.76053049553104, 'gamma': 0.019325958442163324, 'kernel': 'rbf'}\n",
      "22.980374442 {'C': 3058.9221350668863, 'gamma': 0.0029192594240558165, 'kernel': 'rbf'}\n"
     ]
    }
   ],
   "source": [
    "rcvres = rand_search_svr.cv_results_\n",
    "for i,(mean_score, params) in enumerate(sorted(zip(rcvres['mean_test_score'], rcvres['params']), reverse=True)):\n",
    "    print(np.sqrt(-mean_score), params)\n",
    "    if i>10:\n",
    "        break"
   ]
  },
  {
   "cell_type": "code",
   "execution_count": 246,
   "metadata": {
    "collapsed": true
   },
   "outputs": [],
   "source": [
    "rand_svr = rand_search_svr.best_estimator_"
   ]
  },
  {
   "cell_type": "markdown",
   "metadata": {},
   "source": [
    "### Comparing results on test set"
   ]
  },
  {
   "cell_type": "code",
   "execution_count": 254,
   "metadata": {},
   "outputs": [],
   "source": [
    "# Load Test set:\n",
    "with open('./PklJar/TestSet.pkl', 'rb') as f:\n",
    "    test_dict = pickle.load(f)\n",
    "    dfTest_features = test_dict['features']\n",
    "    dfTest_labels = test_dict['labels']\n",
    "    del test_dict\n",
    "# Run test set through preprocessing pipeline\n",
    "test_features_processed =  doc_ag412_pipeline.transform(dfTest_features.values)\n",
    "doc_test_labels = dfTest_labels['doc'].values"
   ]
  },
  {
   "cell_type": "markdown",
   "metadata": {},
   "source": [
    "##### Random Forest with  Grid Search CV"
   ]
  },
  {
   "cell_type": "code",
   "execution_count": 303,
   "metadata": {},
   "outputs": [
    {
     "name": "stdout",
     "output_type": "stream",
     "text": [
      "forest_grid final rmse: 18.558\n"
     ]
    }
   ],
   "source": [
    "test_pred_forest_grid = grid_forest.predict(test_features_processed)\n",
    "forest_grid_final_mse = mean_squared_error(doc_test_labels, test_pred_forest_grid)\n",
    "print(\"forest_grid final rmse: %.3f\" % np.sqrt(forest_grid_final_mse))"
   ]
  },
  {
   "cell_type": "markdown",
   "metadata": {},
   "source": [
    "##### Random Forest with Randomized Search CV"
   ]
  },
  {
   "cell_type": "code",
   "execution_count": 300,
   "metadata": {},
   "outputs": [
    {
     "name": "stdout",
     "output_type": "stream",
     "text": [
      "svr_rand final rmse: 19.346\n"
     ]
    }
   ],
   "source": [
    "test_pred_forest_rand = rand_forest.predict(test_features_processed)\n",
    "forest_rand_final_mse = mean_squared_error(doc_test_labels, test_pred_forest_rand)\n",
    "print(\"svr_rand final rmse: %.3f\" % np.sqrt(forest_rand_final_mse))"
   ]
  },
  {
   "cell_type": "markdown",
   "metadata": {},
   "source": [
    "##### SVR with  Grid Search CV"
   ]
  },
  {
   "cell_type": "code",
   "execution_count": 264,
   "metadata": {},
   "outputs": [
    {
     "name": "stdout",
     "output_type": "stream",
     "text": [
      "svr_grid final rmse: 20.115\n"
     ]
    }
   ],
   "source": [
    "test_pred_svr_grid = grid_svr.predict(test_features_processed)\n",
    "svr_grid_final_mse = mean_squared_error(doc_test_labels, test_pred_svr_grid)\n",
    "print(\"svr_grid final rmse: %.3f\" % np.sqrt(svr_grid_final_mse))"
   ]
  },
  {
   "cell_type": "markdown",
   "metadata": {},
   "source": [
    "##### SVR with  Randomized Search CV"
   ]
  },
  {
   "cell_type": "code",
   "execution_count": 260,
   "metadata": {},
   "outputs": [
    {
     "name": "stdout",
     "output_type": "stream",
     "text": [
      "svr_rand final rmse: 19.911\n"
     ]
    }
   ],
   "source": [
    "test_pred_svr_rand = rand_svr.predict(test_features_processed)\n",
    "svr_rand_final_mse = mean_squared_error(doc_test_labels, test_pred_svr_rand)\n",
    "print(\"svr_rand final rmse: %.3f\" % np.sqrt(svr_rand_final_mse))"
   ]
  },
  {
   "cell_type": "markdown",
   "metadata": {},
   "source": [
    "### Testing on field data spanning"
   ]
  },
  {
   "cell_type": "code",
   "execution_count": 306,
   "metadata": {
    "collapsed": true
   },
   "outputs": [],
   "source": [
    "dfAntonio = pd.read_excel('/accounts/ekarakoy/DATA/SergioDOC/Algorithm_Sept_2011_AVG_MERGED_30min_MATCH_Nov2011_data_compilation_for-Erdem-Sergio.xlsx',\n",
    "                     sheetname='ForML')"
   ]
  },
  {
   "cell_type": "code",
   "execution_count": 310,
   "metadata": {},
   "outputs": [],
   "source": [
    "dfAntonio.dropna(inplace=True)\n",
    "dfA_labels = dfAntonio['DOC']"
   ]
  },
  {
   "cell_type": "code",
   "execution_count": 312,
   "metadata": {},
   "outputs": [
    {
     "data": {
      "text/html": [
       "<div>\n",
       "<style>\n",
       "    .dataframe thead tr:only-child th {\n",
       "        text-align: right;\n",
       "    }\n",
       "\n",
       "    .dataframe thead th {\n",
       "        text-align: left;\n",
       "    }\n",
       "\n",
       "    .dataframe tbody tr th {\n",
       "        vertical-align: top;\n",
       "    }\n",
       "</style>\n",
       "<table border=\"1\" class=\"dataframe\">\n",
       "  <thead>\n",
       "    <tr style=\"text-align: right;\">\n",
       "      <th></th>\n",
       "      <th>Temp</th>\n",
       "      <th>Salinity</th>\n",
       "      <th>Rrs412</th>\n",
       "      <th>Rrs443</th>\n",
       "      <th>Rrs532</th>\n",
       "      <th>Rrs555</th>\n",
       "      <th>Rrs665</th>\n",
       "    </tr>\n",
       "  </thead>\n",
       "  <tbody>\n",
       "    <tr>\n",
       "      <th>0</th>\n",
       "      <td>6.4368</td>\n",
       "      <td>32.7300</td>\n",
       "      <td>0.001985</td>\n",
       "      <td>0.002234</td>\n",
       "      <td>0.001967</td>\n",
       "      <td>0.001550</td>\n",
       "      <td>0.000176</td>\n",
       "    </tr>\n",
       "    <tr>\n",
       "      <th>1</th>\n",
       "      <td>6.7481</td>\n",
       "      <td>32.6430</td>\n",
       "      <td>0.001700</td>\n",
       "      <td>0.001818</td>\n",
       "      <td>0.002168</td>\n",
       "      <td>0.001858</td>\n",
       "      <td>0.000229</td>\n",
       "    </tr>\n",
       "    <tr>\n",
       "      <th>2</th>\n",
       "      <td>6.4288</td>\n",
       "      <td>32.7849</td>\n",
       "      <td>0.001666</td>\n",
       "      <td>0.001981</td>\n",
       "      <td>0.002592</td>\n",
       "      <td>0.002248</td>\n",
       "      <td>0.000262</td>\n",
       "    </tr>\n",
       "    <tr>\n",
       "      <th>3</th>\n",
       "      <td>6.3396</td>\n",
       "      <td>30.0870</td>\n",
       "      <td>0.002146</td>\n",
       "      <td>0.002986</td>\n",
       "      <td>0.005287</td>\n",
       "      <td>0.005039</td>\n",
       "      <td>0.000792</td>\n",
       "    </tr>\n",
       "    <tr>\n",
       "      <th>4</th>\n",
       "      <td>5.9519</td>\n",
       "      <td>31.0530</td>\n",
       "      <td>0.002645</td>\n",
       "      <td>0.003534</td>\n",
       "      <td>0.005942</td>\n",
       "      <td>0.005494</td>\n",
       "      <td>0.000837</td>\n",
       "    </tr>\n",
       "  </tbody>\n",
       "</table>\n",
       "</div>"
      ],
      "text/plain": [
       "     Temp  Salinity    Rrs412    Rrs443    Rrs532    Rrs555    Rrs665\n",
       "0  6.4368   32.7300  0.001985  0.002234  0.001967  0.001550  0.000176\n",
       "1  6.7481   32.6430  0.001700  0.001818  0.002168  0.001858  0.000229\n",
       "2  6.4288   32.7849  0.001666  0.001981  0.002592  0.002248  0.000262\n",
       "3  6.3396   30.0870  0.002146  0.002986  0.005287  0.005039  0.000792\n",
       "4  5.9519   31.0530  0.002645  0.003534  0.005942  0.005494  0.000837"
      ]
     },
     "execution_count": 312,
     "metadata": {},
     "output_type": "execute_result"
    }
   ],
   "source": [
    "dfA_features = dfAntonio.iloc[:, 1:]\n",
    "dfA_features.head()"
   ]
  },
  {
   "cell_type": "code",
   "execution_count": 314,
   "metadata": {
    "collapsed": true
   },
   "outputs": [],
   "source": [
    "antonio_features_processed =  doc_ag412_pipeline.transform(dfA_features.values)\n",
    "doc_antonio_labels = dfA_labels.values"
   ]
  },
  {
   "cell_type": "code",
   "execution_count": 315,
   "metadata": {},
   "outputs": [
    {
     "name": "stdout",
     "output_type": "stream",
     "text": [
      "forest_grid final rmse: 8.327\n"
     ]
    }
   ],
   "source": [
    "antonio_pred_forest_grid = grid_forest.predict(antonio_features_processed)\n",
    "forest_grid_final_mse_antonio = mean_squared_error(doc_antonio_labels, antonio_pred_forest_grid)\n",
    "print(\"forest_grid final rmse: %.3f\" % np.sqrt(forest_grid_final_mse_antonio))"
   ]
  },
  {
   "cell_type": "code",
   "execution_count": null,
   "metadata": {
    "collapsed": true
   },
   "outputs": [],
   "source": []
  }
 ],
 "metadata": {
  "kernelspec": {
   "display_name": "Python 3",
   "language": "python",
   "name": "python3"
  },
  "language_info": {
   "codemirror_mode": {
    "name": "ipython",
    "version": 3
   },
   "file_extension": ".py",
   "mimetype": "text/x-python",
   "name": "python",
   "nbconvert_exporter": "python",
   "pygments_lexer": "ipython3",
   "version": "3.6.2"
  }
 },
 "nbformat": 4,
 "nbformat_minor": 2
}
