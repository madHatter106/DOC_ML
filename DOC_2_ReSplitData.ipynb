{
 "cells": [
  {
   "cell_type": "code",
   "execution_count": 1,
   "metadata": {
    "collapsed": true
   },
   "outputs": [],
   "source": [
    "import pandas as pd\n",
    "import numpy as np\n",
    "import pickle\n",
    "from IPython.core.display import HTML, display\n",
    "from sklearn.model_selection import train_test_split"
   ]
  },
  {
   "cell_type": "code",
   "execution_count": 2,
   "metadata": {},
   "outputs": [
    {
     "data": {
      "text/html": [
       "<style>.container{width:90% !important}</style>"
      ],
      "text/plain": [
       "<IPython.core.display.HTML object>"
      ]
     },
     "metadata": {},
     "output_type": "display_data"
    }
   ],
   "source": [
    "display(HTML(\"<style>.container{width:90% !important}</style>\"))"
   ]
  },
  {
   "cell_type": "code",
   "execution_count": 3,
   "metadata": {
    "collapsed": true
   },
   "outputs": [],
   "source": [
    "with open('./PklJar/PklDFs.pkl', 'rb') as f:\n",
    "    saved = pickle.load(f)"
   ]
  },
  {
   "cell_type": "code",
   "execution_count": 4,
   "metadata": {
    "collapsed": true
   },
   "outputs": [],
   "source": [
    "dfTrainX = saved['dfTrainX']\n",
    "dfTrainY = saved['dfTrainY']\n",
    "dfTestX = saved['dfTestX']\n",
    "dfTestY = saved['dfTestY']"
   ]
  },
  {
   "cell_type": "code",
   "execution_count": 5,
   "metadata": {},
   "outputs": [
    {
     "data": {
      "text/plain": [
       "True"
      ]
     },
     "execution_count": 5,
     "metadata": {},
     "output_type": "execute_result"
    }
   ],
   "source": [
    "(dfTrainX.columns == dfTestX.columns).all()"
   ]
  },
  {
   "cell_type": "code",
   "execution_count": 6,
   "metadata": {},
   "outputs": [
    {
     "data": {
      "text/plain": [
       "True"
      ]
     },
     "execution_count": 6,
     "metadata": {},
     "output_type": "execute_result"
    }
   ],
   "source": [
    "(dfTestY.columns == dfTrainY.columns).all()"
   ]
  },
  {
   "cell_type": "markdown",
   "metadata": {},
   "source": [
    "I'm going to merge these data and redo the test/train split by first re-merging the pre-split data, then re-splitting the data"
   ]
  },
  {
   "cell_type": "code",
   "execution_count": 7,
   "metadata": {
    "collapsed": true
   },
   "outputs": [],
   "source": [
    "dfX = pd.concat((dfTrainX, dfTestX))\n",
    "dfY = pd.concat((dfTrainY, dfTestY))"
   ]
  },
  {
   "cell_type": "code",
   "execution_count": 8,
   "metadata": {},
   "outputs": [
    {
     "data": {
      "text/html": [
       "<div>\n",
       "<style>\n",
       "    .dataframe thead tr:only-child th {\n",
       "        text-align: right;\n",
       "    }\n",
       "\n",
       "    .dataframe thead th {\n",
       "        text-align: left;\n",
       "    }\n",
       "\n",
       "    .dataframe tbody tr th {\n",
       "        vertical-align: top;\n",
       "    }\n",
       "</style>\n",
       "<table border=\"1\" class=\"dataframe\">\n",
       "  <thead>\n",
       "    <tr style=\"text-align: right;\">\n",
       "      <th></th>\n",
       "      <th>SST</th>\n",
       "      <th>SSS</th>\n",
       "      <th>Rrs412</th>\n",
       "      <th>Rrs443</th>\n",
       "      <th>Rrs531</th>\n",
       "      <th>Rrs555</th>\n",
       "      <th>Rrs667</th>\n",
       "    </tr>\n",
       "  </thead>\n",
       "  <tbody>\n",
       "    <tr>\n",
       "      <th>0</th>\n",
       "      <td>6.4368</td>\n",
       "      <td>32.7300</td>\n",
       "      <td>0.001985</td>\n",
       "      <td>0.002234</td>\n",
       "      <td>0.001967</td>\n",
       "      <td>0.001550</td>\n",
       "      <td>0.000176</td>\n",
       "    </tr>\n",
       "    <tr>\n",
       "      <th>1</th>\n",
       "      <td>6.7481</td>\n",
       "      <td>32.6430</td>\n",
       "      <td>0.001700</td>\n",
       "      <td>0.001818</td>\n",
       "      <td>0.002168</td>\n",
       "      <td>0.001858</td>\n",
       "      <td>0.000229</td>\n",
       "    </tr>\n",
       "    <tr>\n",
       "      <th>2</th>\n",
       "      <td>6.4288</td>\n",
       "      <td>32.7849</td>\n",
       "      <td>0.001666</td>\n",
       "      <td>0.001981</td>\n",
       "      <td>0.002592</td>\n",
       "      <td>0.002248</td>\n",
       "      <td>0.000262</td>\n",
       "    </tr>\n",
       "    <tr>\n",
       "      <th>3</th>\n",
       "      <td>6.3396</td>\n",
       "      <td>30.0870</td>\n",
       "      <td>0.002146</td>\n",
       "      <td>0.002986</td>\n",
       "      <td>0.005287</td>\n",
       "      <td>0.005039</td>\n",
       "      <td>0.000792</td>\n",
       "    </tr>\n",
       "    <tr>\n",
       "      <th>4</th>\n",
       "      <td>5.9519</td>\n",
       "      <td>31.0530</td>\n",
       "      <td>0.002645</td>\n",
       "      <td>0.003534</td>\n",
       "      <td>0.005942</td>\n",
       "      <td>0.005494</td>\n",
       "      <td>0.000837</td>\n",
       "    </tr>\n",
       "  </tbody>\n",
       "</table>\n",
       "</div>"
      ],
      "text/plain": [
       "      SST      SSS    Rrs412    Rrs443    Rrs531    Rrs555    Rrs667\n",
       "0  6.4368  32.7300  0.001985  0.002234  0.001967  0.001550  0.000176\n",
       "1  6.7481  32.6430  0.001700  0.001818  0.002168  0.001858  0.000229\n",
       "2  6.4288  32.7849  0.001666  0.001981  0.002592  0.002248  0.000262\n",
       "3  6.3396  30.0870  0.002146  0.002986  0.005287  0.005039  0.000792\n",
       "4  5.9519  31.0530  0.002645  0.003534  0.005942  0.005494  0.000837"
      ]
     },
     "execution_count": 8,
     "metadata": {},
     "output_type": "execute_result"
    }
   ],
   "source": [
    "dfX.head()"
   ]
  },
  {
   "cell_type": "code",
   "execution_count": 9,
   "metadata": {},
   "outputs": [
    {
     "data": {
      "text/html": [
       "<div>\n",
       "<style>\n",
       "    .dataframe thead tr:only-child th {\n",
       "        text-align: right;\n",
       "    }\n",
       "\n",
       "    .dataframe thead th {\n",
       "        text-align: left;\n",
       "    }\n",
       "\n",
       "    .dataframe tbody tr th {\n",
       "        vertical-align: top;\n",
       "    }\n",
       "</style>\n",
       "<table border=\"1\" class=\"dataframe\">\n",
       "  <thead>\n",
       "    <tr style=\"text-align: right;\">\n",
       "      <th></th>\n",
       "      <th>ag412</th>\n",
       "      <th>s300-600</th>\n",
       "      <th>doc</th>\n",
       "    </tr>\n",
       "  </thead>\n",
       "  <tbody>\n",
       "    <tr>\n",
       "      <th>0</th>\n",
       "      <td>0.095968</td>\n",
       "      <td>0.02009</td>\n",
       "      <td>73.844167</td>\n",
       "    </tr>\n",
       "    <tr>\n",
       "      <th>1</th>\n",
       "      <td>0.106771</td>\n",
       "      <td>0.02051</td>\n",
       "      <td>73.012500</td>\n",
       "    </tr>\n",
       "    <tr>\n",
       "      <th>2</th>\n",
       "      <td>0.142269</td>\n",
       "      <td>0.02052</td>\n",
       "      <td>86.136667</td>\n",
       "    </tr>\n",
       "    <tr>\n",
       "      <th>3</th>\n",
       "      <td>0.195259</td>\n",
       "      <td>0.01961</td>\n",
       "      <td>96.481250</td>\n",
       "    </tr>\n",
       "    <tr>\n",
       "      <th>4</th>\n",
       "      <td>0.192223</td>\n",
       "      <td>0.01910</td>\n",
       "      <td>88.496667</td>\n",
       "    </tr>\n",
       "  </tbody>\n",
       "</table>\n",
       "</div>"
      ],
      "text/plain": [
       "      ag412  s300-600        doc\n",
       "0  0.095968   0.02009  73.844167\n",
       "1  0.106771   0.02051  73.012500\n",
       "2  0.142269   0.02052  86.136667\n",
       "3  0.195259   0.01961  96.481250\n",
       "4  0.192223   0.01910  88.496667"
      ]
     },
     "execution_count": 9,
     "metadata": {},
     "output_type": "execute_result"
    }
   ],
   "source": [
    "dfY.head()"
   ]
  },
  {
   "cell_type": "code",
   "execution_count": 10,
   "metadata": {},
   "outputs": [
    {
     "data": {
      "text/plain": [
       "(              SST         SSS      Rrs412      Rrs443      Rrs531      Rrs555  \\\n",
       " count  279.000000  279.000000  279.000000  279.000000  279.000000  279.000000   \n",
       " mean    16.291850   27.267609    0.002192    0.002761    0.004566    0.004571   \n",
       " std      6.468936    6.540245    0.001860    0.001753    0.002615    0.002798   \n",
       " min      0.000000    1.180000    0.000001    0.000392    0.001154    0.001060   \n",
       " 25%     12.186803   23.485140    0.001107    0.001839    0.002329    0.002206   \n",
       " 50%     14.927000   30.262000    0.001969    0.002433    0.003827    0.004065   \n",
       " 75%     21.206500   32.108084    0.002655    0.003096    0.005964    0.006194   \n",
       " max     29.573000   35.022000    0.017884    0.014314    0.014211    0.013559   \n",
       " \n",
       "            Rrs667  \n",
       " count  279.000000  \n",
       " mean     0.001459  \n",
       " std      0.001518  \n",
       " min      0.000115  \n",
       " 25%      0.000397  \n",
       " 50%      0.000938  \n",
       " 75%      0.002065  \n",
       " max      0.012390  ,             ag412    s300-600         doc\n",
       " count  279.000000  279.000000  279.000000\n",
       " mean     0.303319    0.019294  133.486636\n",
       " std      0.244801    0.001934   55.332630\n",
       " min      0.034784    0.013488   57.793000\n",
       " 25%      0.138302    0.017724   87.753500\n",
       " 50%      0.241464    0.019028  115.265850\n",
       " 75%      0.410219    0.020615  172.612314\n",
       " max      2.734651    0.026530  279.500000)"
      ]
     },
     "execution_count": 10,
     "metadata": {},
     "output_type": "execute_result"
    }
   ],
   "source": [
    "dfX.describe(), dfY.describe()"
   ]
  },
  {
   "cell_type": "code",
   "execution_count": 11,
   "metadata": {},
   "outputs": [],
   "source": [
    "def SplitData():\n",
    "    trainIndices, testIndices = train_test_split(np.arange(dfX.shape[0]), test_size=0.2, random_state=42)\n",
    "    return trainIndices, testIndices\n",
    "trainIdx, testIdx = SplitData()"
   ]
  },
  {
   "cell_type": "code",
   "execution_count": 12,
   "metadata": {},
   "outputs": [
    {
     "data": {
      "text/plain": [
       "((223,), (56,))"
      ]
     },
     "execution_count": 12,
     "metadata": {},
     "output_type": "execute_result"
    }
   ],
   "source": [
    "trainIdx.shape, testIdx.shape"
   ]
  },
  {
   "cell_type": "code",
   "execution_count": 13,
   "metadata": {},
   "outputs": [],
   "source": [
    "dfTrainX, dfTrainY = dfX.iloc[trainIdx], dfY.iloc[trainIdx]\n",
    "dfTestX, dfTestY = dfX.iloc[testIdx], dfY.iloc[testIdx]"
   ]
  },
  {
   "cell_type": "code",
   "execution_count": 14,
   "metadata": {},
   "outputs": [
    {
     "data": {
      "text/plain": [
       "((223, 7), (223, 3), (56, 7), (56, 3))"
      ]
     },
     "execution_count": 14,
     "metadata": {},
     "output_type": "execute_result"
    }
   ],
   "source": [
    "dfTrainX.shape, dfTrainY.shape, dfTestX.shape, dfTestY.shape"
   ]
  },
  {
   "cell_type": "markdown",
   "metadata": {},
   "source": [
    "Parking away test features and labels to avoid data snoop"
   ]
  },
  {
   "cell_type": "code",
   "execution_count": 15,
   "metadata": {
    "collapsed": true
   },
   "outputs": [],
   "source": [
    "testFrames = {'features': dfTestX, 'labels': dfTestY}\n",
    "with open('./PklJar/TestSet.pkl', 'wb') as f:\n",
    "    pickle.dump(testFrames, f)"
   ]
  },
  {
   "cell_type": "code",
   "execution_count": 16,
   "metadata": {},
   "outputs": [],
   "source": [
    "del dfX, dfY, trainIdx, testIdx, dfTestX, dfTestY, testFrames"
   ]
  },
  {
   "cell_type": "markdown",
   "metadata": {},
   "source": [
    "Saving training set for safety"
   ]
  },
  {
   "cell_type": "code",
   "execution_count": 18,
   "metadata": {
    "collapsed": true
   },
   "outputs": [],
   "source": [
    "trainFrames = {'features': dfTrainX, 'labels': dfTrainY}\n",
    "with open('./PklJar/TrainSet.pkl', 'wb') as f:\n",
    "    pickle.dump(trainFrames, f)"
   ]
  },
  {
   "cell_type": "code",
   "execution_count": null,
   "metadata": {
    "collapsed": true
   },
   "outputs": [],
   "source": []
  }
 ],
 "metadata": {
  "kernelspec": {
   "display_name": "Python 3",
   "language": "python",
   "name": "python3"
  },
  "language_info": {
   "codemirror_mode": {
    "name": "ipython",
    "version": 3
   },
   "file_extension": ".py",
   "mimetype": "text/x-python",
   "name": "python",
   "nbconvert_exporter": "python",
   "pygments_lexer": "ipython3",
   "version": "3.6.2"
  }
 },
 "nbformat": 4,
 "nbformat_minor": 2
}
