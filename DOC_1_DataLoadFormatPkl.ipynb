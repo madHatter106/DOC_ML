{
 "cells": [
  {
   "cell_type": "code",
   "execution_count": 1,
   "metadata": {
    "collapsed": true
   },
   "outputs": [],
   "source": [
    "import pandas as pd\n",
    "import numpy as np\n",
    "import seaborn as sb\n",
    "import os\n",
    "import pickle\n",
    "from IPython.core.display import HTML, display"
   ]
  },
  {
   "cell_type": "code",
   "execution_count": 2,
   "metadata": {
    "collapsed": true
   },
   "outputs": [],
   "source": [
    "import pickle\n",
    "with open('../Sergio_DOC/PklJar/nnetInpTargs.pkl', 'rb') as f:\n",
    "    nnData = pickle.load(f)"
   ]
  },
  {
   "cell_type": "code",
   "execution_count": 3,
   "metadata": {},
   "outputs": [
    {
     "data": {
      "text/plain": [
       "dict_keys(['inputs', 'inputs_sat_test', 'targets', 'targets_sat_test', 'inputLabels', 'targetLabels'])"
      ]
     },
     "execution_count": 3,
     "metadata": {},
     "output_type": "execute_result"
    }
   ],
   "source": [
    "nnData.keys()"
   ]
  },
  {
   "cell_type": "code",
   "execution_count": 4,
   "metadata": {
    "collapsed": true
   },
   "outputs": [],
   "source": [
    "dfTrainX = pd.DataFrame(nnData['inputs'], columns=nnData['inputLabels'])"
   ]
  },
  {
   "cell_type": "code",
   "execution_count": 5,
   "metadata": {
    "collapsed": true
   },
   "outputs": [],
   "source": [
    "dfTrainY = pd.DataFrame(nnData['targets'], columns=nnData['targetLabels'])"
   ]
  },
  {
   "cell_type": "code",
   "execution_count": 6,
   "metadata": {
    "collapsed": true
   },
   "outputs": [],
   "source": [
    "dfTestX = pd.DataFrame(nnData['inputs_sat_test'].T, columns=nnData['inputLabels'])"
   ]
  },
  {
   "cell_type": "code",
   "execution_count": 7,
   "metadata": {
    "collapsed": true
   },
   "outputs": [],
   "source": [
    "dfTestY = pd.DataFrame(nnData['targets_sat_test'].T, columns=nnData['targetLabels'])"
   ]
  },
  {
   "cell_type": "code",
   "execution_count": 8,
   "metadata": {},
   "outputs": [
    {
     "name": "stdout",
     "output_type": "stream",
     "text": [
      "<class 'pandas.core.frame.DataFrame'>\n",
      "RangeIndex: 182 entries, 0 to 181\n",
      "Data columns (total 7 columns):\n",
      "SST       182 non-null float64\n",
      "SSS       182 non-null float64\n",
      "Rrs412    182 non-null float64\n",
      "Rrs443    182 non-null float64\n",
      "Rrs531    182 non-null float64\n",
      "Rrs555    182 non-null float64\n",
      "Rrs667    182 non-null float64\n",
      "dtypes: float64(7)\n",
      "memory usage: 10.0 KB\n"
     ]
    }
   ],
   "source": [
    "dfTrainX.info()"
   ]
  },
  {
   "cell_type": "code",
   "execution_count": 9,
   "metadata": {},
   "outputs": [
    {
     "name": "stdout",
     "output_type": "stream",
     "text": [
      "<class 'pandas.core.frame.DataFrame'>\n",
      "RangeIndex: 182 entries, 0 to 181\n",
      "Data columns (total 3 columns):\n",
      "ag412       182 non-null float64\n",
      "s300-600    182 non-null float64\n",
      "doc         182 non-null float64\n",
      "dtypes: float64(3)\n",
      "memory usage: 4.3 KB\n"
     ]
    }
   ],
   "source": [
    "dfTrainY.info()"
   ]
  },
  {
   "cell_type": "code",
   "execution_count": 10,
   "metadata": {},
   "outputs": [
    {
     "name": "stdout",
     "output_type": "stream",
     "text": [
      "<class 'pandas.core.frame.DataFrame'>\n",
      "RangeIndex: 97 entries, 0 to 96\n",
      "Data columns (total 7 columns):\n",
      "SST       97 non-null float64\n",
      "SSS       97 non-null float64\n",
      "Rrs412    97 non-null float64\n",
      "Rrs443    97 non-null float64\n",
      "Rrs531    97 non-null float64\n",
      "Rrs555    97 non-null float64\n",
      "Rrs667    97 non-null float64\n",
      "dtypes: float64(7)\n",
      "memory usage: 5.4 KB\n"
     ]
    }
   ],
   "source": [
    "dfTestX.info()"
   ]
  },
  {
   "cell_type": "code",
   "execution_count": 11,
   "metadata": {},
   "outputs": [
    {
     "name": "stdout",
     "output_type": "stream",
     "text": [
      "<class 'pandas.core.frame.DataFrame'>\n",
      "RangeIndex: 97 entries, 0 to 96\n",
      "Data columns (total 3 columns):\n",
      "ag412       97 non-null float64\n",
      "s300-600    97 non-null float64\n",
      "doc         97 non-null float64\n",
      "dtypes: float64(3)\n",
      "memory usage: 2.4 KB\n"
     ]
    }
   ],
   "source": [
    "dfTestY.info()"
   ]
  },
  {
   "cell_type": "code",
   "execution_count": 12,
   "metadata": {
    "collapsed": true
   },
   "outputs": [],
   "source": [
    "with open('./PklJar/PklDFs.pkl', 'wb') as f:\n",
    "    saved = {'dfTrainX': dfTrainX, 'dfTrainY': dfTrainY,\n",
    "            'dfTestX': dfTestX, 'dfTestY': dfTestY}\n",
    "    pickle.dump(saved, f, protocol=pickle.HIGHEST_PROTOCOL)"
   ]
  },
  {
   "cell_type": "code",
   "execution_count": null,
   "metadata": {
    "collapsed": true
   },
   "outputs": [],
   "source": []
  }
 ],
 "metadata": {
  "kernelspec": {
   "display_name": "Python 3",
   "language": "python",
   "name": "python3"
  },
  "language_info": {
   "codemirror_mode": {
    "name": "ipython",
    "version": 3
   },
   "file_extension": ".py",
   "mimetype": "text/x-python",
   "name": "python",
   "nbconvert_exporter": "python",
   "pygments_lexer": "ipython3",
   "version": "3.6.2"
  }
 },
 "nbformat": 4,
 "nbformat_minor": 2
}
